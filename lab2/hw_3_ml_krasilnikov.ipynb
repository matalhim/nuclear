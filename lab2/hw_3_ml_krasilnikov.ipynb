{
 "cells": [
  {
   "cell_type": "code",
   "execution_count": 9,
   "id": "initial_id",
   "metadata": {
    "collapsed": true,
    "ExecuteTime": {
     "end_time": "2024-10-03T11:03:55.973267Z",
     "start_time": "2024-10-03T11:03:55.851224Z"
    }
   },
   "outputs": [
    {
     "name": "stdout",
     "output_type": "stream",
     "text": [
      "1.0\n"
     ]
    }
   ],
   "source": [
    "import numpy as np\n",
    "from sklearn.datasets import load_iris\n",
    "from sklearn.model_selection import train_test_split\n",
    "from sklearn.metrics import classification_report\n",
    "\n",
    "\n",
    "class LogisticRegression:\n",
    "    def __init__(self, learning_rate=0.001, epochs=1000, threshold=0.5, fnum = 2):\n",
    "        self.learning_rate = learning_rate\n",
    "        self.epochs = epochs\n",
    "        self.beta = np.random.normal(loc=0.0, scale=1, size=1 + fnum)\n",
    "        self.threshold = threshold\n",
    "\n",
    "    def Z(self, X):\n",
    "        return self.beta[0] + np.dot(X, self.beta[1:])\n",
    "\n",
    "    def theta(self, Z):\n",
    "        return 1./(1.+np.exp(-Z))\n",
    "\n",
    "    def predict(self, X):\n",
    "        theta = self.theta(self.Z(X))\n",
    "        return np.where(theta >= self.threshold, 1, 0)\n",
    "\n",
    "    def cost(self, y, theta):\n",
    "        return np.sum(np.nan_to_num(-y * np.log(theta) - (1 - y) * np.log(1 - theta)))\n",
    "\n",
    "    def gradient_decent(self, X, y):\n",
    "        for i in range(self.epochs):\n",
    "            theta = self.theta(self.Z(X))\n",
    "            errors = y - theta\n",
    "            self.beta[1:] += self.learning_rate * X.T.dot(errors) / len(y)\n",
    "            self.beta[0] += self.learning_rate * errors.sum() / len(y)\n",
    "            yield self.cost(y, theta)\n",
    "\n",
    "    def fit(self, X, y):\n",
    "        self.costs = []\n",
    "        for cost in self.gradient_decent(X, y):\n",
    "            self.costs.append(cost)\n",
    "        #return self\n",
    "\n",
    "\n",
    "if __name__ == \"__main__\":\n",
    "\n",
    "    # data = []\n",
    "\n",
    "    # with open('home_3/data1.txt') as file:\n",
    "    #     for line in file:\n",
    "    #         x1, x2, label = line.strip().split(',')\n",
    "    #         data.append([float(x1), float(x2), int(label)])\n",
    "\n",
    "    # data = np.array(data)\n",
    "\n",
    "    # X = data[:, :2]\n",
    "    # y = data[:, 2] \n",
    "\n",
    "    # X_train, X_test, y_train, y_test = train_test_split(X, y, test_size=0.20, random_state=0)\n",
    "\n",
    "    # lr = LogisticRegression(learning_rate=0.001, epochs=1000, threshold=0.5, fnum = 2)\n",
    "\n",
    "\n",
    "    # lr.fit(X_train, y_train)\n",
    "\n",
    "    # y_pred = lr.predict(X_test)\n",
    "\n",
    "    # acc = np.sum(y_pred == y_test) / len(y_test)\n",
    "    # print(acc)\n",
    "\n",
    "    data = []\n",
    "    file_path = 'data2.txt'\n",
    "    with open(file_path) as file:\n",
    "        for line in file:\n",
    "            x1, x2, x3, x4, label = line.strip().split(' ')\n",
    "            data.append([float(x1), float(x2), float(x3), float(x4), int(label)])\n",
    "\n",
    "    data = np.array(data)\n",
    "\n",
    "    X = data[:, :4]\n",
    "    y = data[:, 4] \n",
    "\n",
    "    X_train, X_test, y_train, y_test = train_test_split(X, y, test_size=0.20, random_state=0)\n",
    "\n",
    "    lr = LogisticRegression(learning_rate=0.001, epochs=1000, threshold=0.5, fnum = 4)\n",
    "\n",
    "\n",
    "    lr.fit(X_train, y_train)\n",
    "\n",
    "    y_pred = lr.predict(X_test)\n",
    "\n",
    "    acc = np.sum(y_pred == y_test) / len(y_test)\n",
    "    print(acc)\n"
   ]
  }
 ],
 "metadata": {
  "kernelspec": {
   "display_name": "Python 3",
   "language": "python",
   "name": "python3"
  },
  "language_info": {
   "codemirror_mode": {
    "name": "ipython",
    "version": 2
   },
   "file_extension": ".py",
   "mimetype": "text/x-python",
   "name": "python",
   "nbconvert_exporter": "python",
   "pygments_lexer": "ipython2",
   "version": "2.7.6"
  }
 },
 "nbformat": 4,
 "nbformat_minor": 5
}
